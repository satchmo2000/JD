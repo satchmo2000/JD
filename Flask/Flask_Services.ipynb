{
 "cells": [
  {
   "cell_type": "code",
   "execution_count": 1,
   "metadata": {},
   "outputs": [
    {
     "data": {
      "text/plain": [
       "<flask_cors.extension.CORS at 0x7ff7302bcf40>"
      ]
     },
     "execution_count": 1,
     "metadata": {},
     "output_type": "execute_result"
    }
   ],
   "source": [
    "import os\n",
    "import hashlib\n",
    "\n",
    "from flask import Flask, session, request, jsonify, url_for, flash\n",
    "from flask_cors import CORS\n",
    "from werkzeug.utils import secure_filename\n",
    "import signal\n",
    "app = Flask(__name__)\n",
    "app.config['UPLOAD_FOLDER'] = 'uploads/'\n",
    "app.secret_key = 'app_ysk'\n",
    "CORS(app)"
   ]
  },
  {
   "cell_type": "code",
   "execution_count": 2,
   "metadata": {},
   "outputs": [],
   "source": [
    "def makeMD5():\n",
    "    # 生成一个随机字符串\n",
    "    random_string = os.urandom(16)\n",
    "\n",
    "    # 创建一个MD5哈希对象\n",
    "    md5_hash = hashlib.md5()\n",
    "\n",
    "    # 更新哈希对象，使用随机字符串作为输入\n",
    "    md5_hash.update(random_string)\n",
    "\n",
    "    # 获取MD5哈希值的十六进制表示形式\n",
    "    md5_hex = md5_hash.hexdigest()\n",
    "\n",
    "    print(\"Random MD5 hash:\", md5_hex)\n",
    "    \n",
    "    return md5_hex"
   ]
  },
  {
   "cell_type": "code",
   "execution_count": 3,
   "metadata": {},
   "outputs": [],
   "source": [
    "@app.route('/shutdown', methods=['POST'])\n",
    "def shutdown():\n",
    "    shutdown_server = request.environ.get('werkzeug.server.shutdown')\n",
    "    if shutdown_server is None:\n",
    "        raise RuntimeError('Not running with the Werkzeug Server')\n",
    "    shutdown_server()\n",
    "    return 'Server shutting down...'\n"
   ]
  },
  {
   "cell_type": "code",
   "execution_count": 4,
   "metadata": {},
   "outputs": [],
   "source": [
    "@app.route('/generate', methods=['POST'])\n",
    "def generate_text():\n",
    "    print('request:', request)\n",
    "    data = request.get_json()\n",
    "    print('data:', data)\n",
    "    A = data['A']\n",
    "    B = data['B']\n",
    "\n",
    "    # 解码生成的tokens为文本\n",
    "    generated_text = A + B\n",
    "    \n",
    "    outJson = {'code':True, 'err_msg': generated_text}\n",
    "    \n",
    "    print('generated_text: ', generated_text, 'return:', outJson)\n",
    "\n",
    "    return jsonify(outJson)"
   ]
  },
  {
   "cell_type": "code",
   "execution_count": 5,
   "metadata": {},
   "outputs": [],
   "source": [
    "@app.route('/upload', methods=['GET', 'POST'])\n",
    "def upload_file():\n",
    "    print('method=', request.method)\n",
    "    if request.method == 'POST':\n",
    "        print('Check file', request.files)\n",
    "        # 检查是否有文件上传\n",
    "        if 'file' not in request.files:\n",
    "            print('No file part')\n",
    "            return jsonify({'code':False, 'err_msg': 'No file part.'})\n",
    "\n",
    "        file = request.files['file']\n",
    "        print('Check file is null', file)\n",
    "        # 如果文件名为空，返回错误\n",
    "        if file.filename == '':\n",
    "            print('No selected file')\n",
    "            return jsonify({'code':False, 'err_msg': 'No selected file.'})\n",
    "\n",
    "        # 保存文件到指定目录\n",
    "        print('Secure filename', file.filename)\n",
    "        filename = secure_filename(file.filename)\n",
    "        print('upload filename: ', filename)\n",
    "        file.save(os.path.join(app.config['UPLOAD_FOLDER'], filename))\n",
    "        print('save file: ', os.path.join(app.config['UPLOAD_FOLDER'], filename))\n",
    "        return jsonify({'code':True, 'count': 1, 'filename': filename, 'err_msg': 'File uploaded and saved.'})\n",
    "\n",
    "    return jsonify({'code':False, 'err_msg': 'Please use post method.'})"
   ]
  },
  {
   "cell_type": "code",
   "execution_count": 7,
   "metadata": {
    "scrolled": true
   },
   "outputs": [
    {
     "name": "stdout",
     "output_type": "stream",
     "text": [
      " * Serving Flask app '__main__'\n",
      " * Debug mode: on\n"
     ]
    },
    {
     "name": "stderr",
     "output_type": "stream",
     "text": [
      "WARNING: This is a development server. Do not use it in a production deployment. Use a production WSGI server instead.\n",
      " * Running on all addresses (0.0.0.0)\n",
      " * Running on http://127.0.0.1:5000\n",
      " * Running on http://172.17.86.20:5000\n",
      "Press CTRL+C to quit\n",
      " * Restarting with stat\n",
      "Traceback (most recent call last):\n",
      "  File \"/usr/local/lib/python3.8/dist-packages/ipykernel_launcher.py\", line 18, in <module>\n",
      "    app.launch_new_instance()\n",
      "  File \"/usr/local/lib/python3.8/dist-packages/traitlets/config/application.py\", line 1074, in launch_instance\n",
      "    app.initialize(argv)\n",
      "  File \"/usr/local/lib/python3.8/dist-packages/traitlets/config/application.py\", line 118, in inner\n",
      "    return method(app, *args, **kwargs)\n",
      "  File \"/usr/local/lib/python3.8/dist-packages/ipykernel/kernelapp.py\", line 692, in initialize\n",
      "    self.init_sockets()\n",
      "  File \"/usr/local/lib/python3.8/dist-packages/ipykernel/kernelapp.py\", line 331, in init_sockets\n",
      "    self.shell_port = self._bind_socket(self.shell_socket, self.shell_port)\n",
      "  File \"/usr/local/lib/python3.8/dist-packages/ipykernel/kernelapp.py\", line 253, in _bind_socket\n",
      "    return self._try_bind_socket(s, port)\n",
      "  File \"/usr/local/lib/python3.8/dist-packages/ipykernel/kernelapp.py\", line 229, in _try_bind_socket\n",
      "    s.bind(\"tcp://%s:%i\" % (self.ip, port))\n",
      "  File \"/usr/local/lib/python3.8/dist-packages/zmq/sugar/socket.py\", line 302, in bind\n",
      "    super().bind(addr)\n",
      "  File \"zmq/backend/cython/socket.pyx\", line 564, in zmq.backend.cython.socket.Socket.bind\n",
      "  File \"zmq/backend/cython/checkrc.pxd\", line 28, in zmq.backend.cython.checkrc._check_rc\n",
      "zmq.error.ZMQError: Address already in use (addr='tcp://127.0.0.1:35377')\n"
     ]
    },
    {
     "ename": "SystemExit",
     "evalue": "1",
     "output_type": "error",
     "traceback": [
      "An exception has occurred, use %tb to see the full traceback.\n",
      "\u001b[0;31mSystemExit\u001b[0m\u001b[0;31m:\u001b[0m 1\n"
     ]
    }
   ],
   "source": [
    "if __name__ == '__main__':\n",
    "    app.run(debug=True, host='0.0.0.0', port=5000)"
   ]
  },
  {
   "cell_type": "code",
   "execution_count": null,
   "metadata": {},
   "outputs": [],
   "source": []
  }
 ],
 "metadata": {
  "kernelspec": {
   "display_name": "Python 3 (ipykernel)",
   "language": "python",
   "name": "python3"
  },
  "language_info": {
   "codemirror_mode": {
    "name": "ipython",
    "version": 3
   },
   "file_extension": ".py",
   "mimetype": "text/x-python",
   "name": "python",
   "nbconvert_exporter": "python",
   "pygments_lexer": "ipython3",
   "version": "3.8.10"
  }
 },
 "nbformat": 4,
 "nbformat_minor": 4
}
